{
 "cells": [
  {
   "cell_type": "raw",
   "id": "15de40f1-dccb-4d70-87e2-10a41ed9fbcf",
   "metadata": {},
   "source": [
    "#1.\n",
    "Question 1:A retail store wants to identify customers who make frequent purchases. Given the dataset below, write a Python program to:\n",
    "Group customers by their IDs.\n",
    "\n",
    "\n",
    "Calculate the total purchase amount per customer.\n",
    "\n",
    "\n",
    "Identify the top 3 customers with the highest purchase amounts.\n",
    "\n",
    "\n",
    "Dataset:\n",
    "data = {'Customer_ID': [101, 102, 103, 101, 104, 102, 101, 105, 102, 103],\n",
    "        'Purchase_Amount': [200, 150, 180, 220, 300, 200, 100, 400, 250, 300]}"
   ]
  },
  {
   "cell_type": "code",
   "execution_count": 27,
   "id": "30b16dde-bed2-4146-af2d-d3e77b674dad",
   "metadata": {},
   "outputs": [
    {
     "name": "stdout",
     "output_type": "stream",
     "text": [
      "   Customer_ID  Purchase_Amount\n",
      "0          101              200\n",
      "1          102              150\n",
      "2          103              180\n",
      "3          101              220\n",
      "4          104              300\n",
      "5          102              200\n",
      "6          101              100\n",
      "7          105              400\n",
      "8          102              250\n",
      "9          103              300\n"
     ]
    }
   ],
   "source": [
    "import pandas as pd\n",
    "\n",
    "#Given Dataset \n",
    "data = {'Customer_ID': [101, 102, 103, 101, 104, 102, 101, 105, 102, 103],\n",
    "       'Purchase_Amount': [200, 150, 180, 220, 300, 200, 100, 400, 250, 300]}\n",
    "\n",
    "#Creating a DataFrame\n",
    "dataset = pd.DataFrame(data)\n",
    "print(dataset)"
   ]
  },
  {
   "cell_type": "code",
   "execution_count": 28,
   "id": "e33e6e46-1f28-41ac-a920-4354ccf36b8a",
   "metadata": {},
   "outputs": [
    {
     "name": "stdout",
     "output_type": "stream",
     "text": [
      "Customer_ID\n",
      "101    520\n",
      "102    600\n",
      "103    480\n",
      "104    300\n",
      "105    400\n",
      "Name: Purchase_Amount, dtype: int64\n"
     ]
    }
   ],
   "source": [
    "#groupby() ----> used to group the rows which should be applied with aggregation methods like .sum(), .mean() or .count()\n",
    "\n",
    "group = dataset.groupby('Customer_ID')['Purchase_Amount'].sum()\n",
    "print(group)"
   ]
  },
  {
   "cell_type": "code",
   "execution_count": 30,
   "id": "bdd5681b-6acb-4c5b-b5c9-a08f28b97a06",
   "metadata": {},
   "outputs": [
    {
     "name": "stdout",
     "output_type": "stream",
     "text": [
      "   Customer_ID  Purchase_Amount\n",
      "0          101              520\n",
      "1          102              600\n",
      "2          103              480\n",
      "3          104              300\n",
      "4          105              400\n"
     ]
    }
   ],
   "source": [
    "total_purchase_per_cust = dataset.groupby('Customer_ID')['Purchase_Amount'].sum().reset_index()\n",
    "print(total_purchase_per_cust)"
   ]
  },
  {
   "cell_type": "code",
   "execution_count": 31,
   "id": "e3e70db9-2bcc-4fa3-a776-67e169b6437f",
   "metadata": {},
   "outputs": [
    {
     "name": "stdout",
     "output_type": "stream",
     "text": [
      "   Customer_ID  Purchase_Amount\n",
      "1          102              600\n",
      "0          101              520\n",
      "2          103              480\n",
      "4          105              400\n",
      "3          104              300\n"
     ]
    }
   ],
   "source": [
    "#sort in descending order - use sort_values() ----> ascending=False ------>big to small\n",
    "sorted_purchase = total_purchase_per_cust.sort_values(by = 'Purchase_Amount', ascending=False)\n",
    "print(sorted_purchase)"
   ]
  },
  {
   "cell_type": "code",
   "execution_count": 42,
   "id": "1b36e7fa-130c-4e3a-90d7-a0e2882e4922",
   "metadata": {},
   "outputs": [
    {
     "name": "stdout",
     "output_type": "stream",
     "text": [
      "Top 3 Customers with Highest Purchases:\n",
      "    Customer_ID  Purchase_Amount\n",
      "1          102              600\n",
      "0          101              520\n",
      "2          103              480\n"
     ]
    }
   ],
   "source": [
    "#Top 3 customers - use head() -----> which returns the first n no of rows from the dataset\n",
    "sorted_purchase = total_purchase_per_cust.sort_values(by = 'Purchase_Amount', ascending=False)\n",
    "top3_customers = sorted_purchase.head(3)\n",
    "print(\"Top 3 Customers with Highest Purchases:\\n\", top3_customers)"
   ]
  },
  {
   "cell_type": "code",
   "execution_count": 41,
   "id": "86902cdc-67a9-4d7f-9acb-91759dc05f25",
   "metadata": {},
   "outputs": [
    {
     "name": "stdout",
     "output_type": "stream",
     "text": [
      "Total Purchases per Customer:\n",
      "   Customer_ID  Purchase_Amount\n",
      "0          101              520\n",
      "1          102              600\n",
      "2          103              480\n",
      "3          104              300\n",
      "4          105              400\n",
      "\n",
      "Top 3 Customers with Highest Purchases:\n",
      "    Customer_ID  Purchase_Amount\n",
      "1          102              600\n",
      "0          101              520\n",
      "2          103              480\n"
     ]
    }
   ],
   "source": [
    "#Total Purchase Per Customer\n",
    "total_purchase_per_cust = dataset.groupby('Customer_ID')['Purchase_Amount'].sum().reset_index()\n",
    "print(\"Total Purchases per Customer:\")\n",
    "print(total_purchase_per_cust)\n",
    "print()\n",
    "\n",
    "#Top 3 customers - use head() -----> which returns the first n no of rows from the dataset\n",
    "sorted_purchase = total_purchase_per_cust.sort_values(by = 'Purchase_Amount', ascending=False)\n",
    "top3_customers = sorted_purchase.head(3)\n",
    "print(\"Top 3 Customers with Highest Purchases:\\n\", top3_customers)\n",
    "\n"
   ]
  },
  {
   "cell_type": "raw",
   "id": "0e6499d6-c604-4f89-8bfd-1f32f9f4f555",
   "metadata": {},
   "source": [
    "#2. Predicting House Prices with Linear Regression\n",
    "A real estate company wants to predict house prices based on square footage. Write a Python program to:\n",
    "Train a Linear Regression model.\n",
    "\n",
    "\n",
    "Predict house prices for given test data.\n",
    "\n",
    "\n",
    "Dataset:\n",
    "data = {'Square_Feet': [1500, 2000, 2500, 3000, 3500],\n",
    "        'Price': [300000, 400000, 500000, 600000, 700000]}\n",
    "\n",
    "Test Data: [[1800], [2800]]\n",
    "Expected Output:\n",
    "Predicted Prices:\n",
    "[360000. 560000.]"
   ]
  },
  {
   "cell_type": "code",
   "execution_count": 8,
   "id": "a62dff3b-ba86-4fbb-8bf1-66a89b09bc17",
   "metadata": {},
   "outputs": [
    {
     "name": "stdout",
     "output_type": "stream",
     "text": [
      "   Square_Feet   Price\n",
      "0         1500  300000\n",
      "1         2000  400000\n",
      "2         2500  500000\n",
      "3         3000  600000\n",
      "4         3500  700000\n"
     ]
    }
   ],
   "source": [
    "import pandas as pd\n",
    "data = {'Square_Feet': [1500, 2000, 2500, 3000, 3500],\n",
    "        'Price': [300000, 400000, 500000, 600000, 700000]}\n",
    "\n",
    "#Creating a DataFrame\n",
    "dataset = pd.DataFrame(data)\n",
    "print(dataset)"
   ]
  },
  {
   "cell_type": "code",
   "execution_count": 9,
   "id": "e5b5de61-24db-470e-9f80-092c29b32f86",
   "metadata": {},
   "outputs": [],
   "source": [
    "#Assigning Input Variable and Output Variable\n",
    "\n",
    "independent = dataset[[\"Square_Feet\"]]\n",
    "dependent = dataset[[\"Price\"]]"
   ]
  },
  {
   "cell_type": "code",
   "execution_count": 10,
   "id": "00e00f79-dc66-402b-a48c-f18f12aa7651",
   "metadata": {},
   "outputs": [
    {
     "name": "stdout",
     "output_type": "stream",
     "text": [
      "Predicted Prices:\n",
      "[[360000.]\n",
      " [560000.]]\n"
     ]
    },
    {
     "name": "stderr",
     "output_type": "stream",
     "text": [
      "/opt/anaconda3/envs/ml/lib/python3.12/site-packages/sklearn/base.py:493: UserWarning: X does not have valid feature names, but LinearRegression was fitted with feature names\n",
      "  warnings.warn(\n"
     ]
    }
   ],
   "source": [
    "#Training a Model Using Linear Regression\n",
    "from sklearn.linear_model import LinearRegression\n",
    "model = LinearRegression()\n",
    "regressor = model.fit(independent, dependent)\n",
    "\n",
    "# Predicting for test data\n",
    "test_data = [[1800], [2800]]\n",
    "predictions = regressor.predict(test_data)\n",
    "\n",
    "print(\"Predicted Prices:\")\n",
    "print(predictions)"
   ]
  },
  {
   "cell_type": "raw",
   "id": "0de73869-a427-43be-a417-d7a561f2b98e",
   "metadata": {},
   "source": [
    "#3:\n",
    "Identifying Frequent Labels in a Dataset\n",
    "A company wants to identify the top 3 most common categories in a dataset. Given the dataset below, write a Python program to:\n",
    "Group the data by Category.\n",
    "\n",
    "\n",
    "Count the total occurrences of each category.\n",
    "\n",
    "\n",
    "Identify the top 3 most frequent categories.\n",
    "\n",
    "\n",
    "Dataset:\n",
    "data = {'Category': ['A', 'B', 'C', 'A', 'D', 'B', 'A', 'E', 'B', 'C', 'C', 'A'],\n",
    "        'Value': [10, 15, 20, 30, 25, 18, 22, 40, 35, 50, 45, 15]}\n",
    "\n",
    "Expected Output:\n",
    "\n",
    "Total Occurrences per Category:\n",
    "  Category  Count\n",
    "0        A      4\n",
    "1        B      3\n",
    "2        C      3\n",
    "3        D      1\n",
    "4        E      1\n",
    "\n",
    "Top 3 Frequent Categories:\n",
    "  Category  Count\n",
    "0        A      4\n",
    "1        B      3\n",
    "2        C      3"
   ]
  },
  {
   "cell_type": "code",
   "execution_count": 11,
   "id": "3f2af146-7ba2-494e-95c6-a3896b41542f",
   "metadata": {},
   "outputs": [
    {
     "name": "stdout",
     "output_type": "stream",
     "text": [
      "   Category  Value\n",
      "0         A     10\n",
      "1         B     15\n",
      "2         C     20\n",
      "3         A     30\n",
      "4         D     25\n",
      "5         B     18\n",
      "6         A     22\n",
      "7         E     40\n",
      "8         B     35\n",
      "9         C     50\n",
      "10        C     45\n",
      "11        A     15\n"
     ]
    }
   ],
   "source": [
    "import pandas as pd\n",
    "\n",
    "data = {'Category': ['A', 'B', 'C', 'A', 'D', 'B', 'A', 'E', 'B', 'C', 'C', 'A'],\n",
    "        'Value': [10, 15, 20, 30, 25, 18, 22, 40, 35, 50, 45, 15]}\n",
    "\n",
    "#Creating a DataFrame\n",
    "\n",
    "dataset = pd.DataFrame(data)\n",
    "print(dataset)"
   ]
  },
  {
   "cell_type": "code",
   "execution_count": 24,
   "id": "4eddf0a5-a9d8-49fe-91d8-ddf5076a6bac",
   "metadata": {},
   "outputs": [
    {
     "name": "stdout",
     "output_type": "stream",
     "text": [
      "Category\n",
      "A    4\n",
      "B    3\n",
      "C    3\n",
      "D    1\n",
      "E    1\n",
      "Name: Value, dtype: int64\n"
     ]
    }
   ],
   "source": [
    "total_count = dataset.groupby('Category')['Value'].count()\n",
    "print(total_count)"
   ]
  },
  {
   "cell_type": "code",
   "execution_count": 15,
   "id": "f6c0b1bf-6eeb-438c-8ef2-943e79e07eb7",
   "metadata": {},
   "outputs": [
    {
     "name": "stdout",
     "output_type": "stream",
     "text": [
      "Total Occurrences per Category:\n",
      "  Category  Count\n",
      "0        A      4\n",
      "1        B      3\n",
      "2        C      3\n",
      "3        D      1\n",
      "4        E      1\n"
     ]
    }
   ],
   "source": [
    "# Convert to DataFrame, reset index, rename column\n",
    "total_occurrence = total_count.reset_index().rename(columns={'Value': 'Count'})\n",
    "print(\"Total Occurrences per Category:\")\n",
    "print(total_occurrence)"
   ]
  },
  {
   "cell_type": "code",
   "execution_count": 43,
   "id": "4b2f6eec-77f2-4109-b7ea-81a143408cd6",
   "metadata": {},
   "outputs": [
    {
     "name": "stdout",
     "output_type": "stream",
     "text": [
      "Top 3 Frequent Categories:\n",
      "  Category  Count\n",
      "0        A      4\n",
      "1        B      3\n",
      "2        C      3\n",
      "3        D      1\n",
      "4        E      1\n"
     ]
    }
   ],
   "source": [
    "# Top 3 Frequent Categories\n",
    "\n",
    "top_freq_category = total_occurrence.sort_values(by='Count' , ascending = False)\n",
    "print(\"Top 3 Frequent Categories:\")\n",
    "print(top_freq_category)"
   ]
  },
  {
   "cell_type": "code",
   "execution_count": 49,
   "id": "13b66f77-8efc-43d4-a86a-c3a4730732ba",
   "metadata": {},
   "outputs": [
    {
     "name": "stdout",
     "output_type": "stream",
     "text": [
      "Total Occurrences per Category:\n",
      "  Category  Count\n",
      "0        A      4\n",
      "1        B      3\n",
      "2        C      3\n",
      "3        D      1\n",
      "4        E      1\n",
      "\n",
      "Top 3 Frequent Categories:\n",
      "  Category  Count\n",
      "0        A      4\n",
      "1        B      3\n",
      "2        C      3\n"
     ]
    }
   ],
   "source": [
    "#Expected Output\n",
    "\n",
    "total_occurrence = total_count.reset_index().rename(columns={'Value': 'Count'})\n",
    "print(\"Total Occurrences per Category:\")\n",
    "print(total_occurrence)\n",
    "print()\n",
    "top_freq_category = total_occurrence.sort_values(by='Count' , ascending = False)\n",
    "print(\"Top 3 Frequent Categories:\")\n",
    "top3_freq_category = top_freq_category.head(3)\n",
    "print(top3_freq_category)\n"
   ]
  },
  {
   "cell_type": "code",
   "execution_count": null,
   "id": "ad1fe4d3-8b70-43bf-98a2-d5a4b0366116",
   "metadata": {},
   "outputs": [],
   "source": [
    "#4.\n",
    "Predicting Missing Values Using Mean Imputation\n",
    "A dataset contains missing values in the Age column. Write a Python program to:\n",
    "Replace missing values with the mean of the column.\n",
    "\n",
    "\n",
    "Display the updated DataFrame.\n",
    "\n",
    "\n",
    "Dataset:\n",
    "data = {'Name': ['Alice', 'Bob', 'Charlie', 'David', 'Eve'],\n",
    "        'Age': [25, 30, None, 35, None]}\n",
    "\n",
    "Expected Output:\n",
    "\n",
    "Original Data:\n",
    "     Name   Age\n",
    "0  Alice  25.0\n",
    "1    Bob  30.0\n",
    "2 Charlie   NaN\n",
    "3  David  35.0\n",
    "4    Eve   NaN\n",
    "\n",
    "Data after Imputation:\n",
    "     Name   Age\n",
    "0  Alice  25.0\n",
    "1    Bob  30.0\n",
    "2 Charlie  30.0\n",
    "3  David  35.0\n",
    "4    Eve  30.0"
   ]
  },
  {
   "cell_type": "code",
   "execution_count": 50,
   "id": "4672fd8b-4691-4699-b2d9-79169b1ebee9",
   "metadata": {},
   "outputs": [
    {
     "name": "stdout",
     "output_type": "stream",
     "text": [
      "      Name   Age\n",
      "0    Alice  25.0\n",
      "1      Bob  30.0\n",
      "2  Charlie   NaN\n",
      "3    David  35.0\n",
      "4      Eve   NaN\n"
     ]
    }
   ],
   "source": [
    "import pandas as pd\n",
    "data = {'Name': ['Alice', 'Bob', 'Charlie', 'David', 'Eve'],\n",
    "        'Age': [25, 30, None, 35, None]}\n",
    "dataset = pd.DataFrame(data)\n",
    "print(dataset)"
   ]
  },
  {
   "cell_type": "code",
   "execution_count": 53,
   "id": "82351ffa-f846-4c32-ad12-d52c50eff97f",
   "metadata": {},
   "outputs": [
    {
     "name": "stdout",
     "output_type": "stream",
     "text": [
      "None\n"
     ]
    },
    {
     "name": "stderr",
     "output_type": "stream",
     "text": [
      "/var/folders/_d/9dyxj4t14ql55yv2t3fzbr7c0000gn/T/ipykernel_32617/4271179998.py:3: FutureWarning: A value is trying to be set on a copy of a DataFrame or Series through chained assignment using an inplace method.\n",
      "The behavior will change in pandas 3.0. This inplace method will never work because the intermediate object on which we are setting values always behaves as a copy.\n",
      "\n",
      "For example, when doing 'df[col].method(value, inplace=True)', try using 'df.method({col: value}, inplace=True)' or df[col] = df[col].method(value) instead, to perform the operation inplace on the original object.\n",
      "\n",
      "\n",
      "  mean = dataset['Age'].fillna(dataset['Age'].mean(), inplace = True)\n"
     ]
    }
   ],
   "source": [
    "#To replace missing values use fillna() and then replace with mean\n",
    "\n",
    "mean = dataset['Age'].fillna(dataset['Age'].mean(), inplace = True)\n",
    "print(mean)"
   ]
  },
  {
   "cell_type": "code",
   "execution_count": 54,
   "id": "06b9822a-5532-482e-848b-5f57b6f62ea1",
   "metadata": {},
   "outputs": [
    {
     "name": "stdout",
     "output_type": "stream",
     "text": [
      "\n",
      "Data after Imputation:\n",
      "      Name   Age\n",
      "0    Alice  25.0\n",
      "1      Bob  30.0\n",
      "2  Charlie  30.0\n",
      "3    David  35.0\n",
      "4      Eve  30.0\n"
     ]
    }
   ],
   "source": [
    "## Print updated data\n",
    "print(\"\\nData after Imputation:\")\n",
    "print(dataset)"
   ]
  },
  {
   "cell_type": "code",
   "execution_count": 60,
   "id": "96280f9d-77ff-4185-923f-87dd03f8dd59",
   "metadata": {},
   "outputs": [
    {
     "name": "stdout",
     "output_type": "stream",
     "text": [
      "Original Data:\n",
      "      Name   Age\n",
      "0    Alice  25.0\n",
      "1      Bob  30.0\n",
      "2  Charlie   NaN\n",
      "3    David  35.0\n",
      "4      Eve   NaN\n",
      "\n",
      "\n",
      "Data after Imputation:\n",
      "      Name   Age\n",
      "0    Alice  25.0\n",
      "1      Bob  30.0\n",
      "2  Charlie  30.0\n",
      "3    David  35.0\n",
      "4      Eve  30.0\n"
     ]
    },
    {
     "name": "stderr",
     "output_type": "stream",
     "text": [
      "/var/folders/_d/9dyxj4t14ql55yv2t3fzbr7c0000gn/T/ipykernel_32617/2805697943.py:11: FutureWarning: A value is trying to be set on a copy of a DataFrame or Series through chained assignment using an inplace method.\n",
      "The behavior will change in pandas 3.0. This inplace method will never work because the intermediate object on which we are setting values always behaves as a copy.\n",
      "\n",
      "For example, when doing 'df[col].method(value, inplace=True)', try using 'df.method({col: value}, inplace=True)' or df[col] = df[col].method(value) instead, to perform the operation inplace on the original object.\n",
      "\n",
      "\n",
      "  dataset['Age'].fillna(dataset['Age'].mean(), inplace = True)\n"
     ]
    }
   ],
   "source": [
    "#Expected Output\n",
    "\n",
    "import pandas as pd\n",
    "data = {'Name': ['Alice', 'Bob', 'Charlie', 'David', 'Eve'],\n",
    "        'Age': [25, 30, None, 35, None]}\n",
    "dataset = pd.DataFrame(data)\n",
    "print(\"Original Data:\")\n",
    "print(dataset)\n",
    "print()\n",
    "\n",
    "dataset['Age'].fillna(dataset['Age'].mean(), inplace = True)\n",
    "#dataset.fillna({'Age':.mean()}, inplace=True)\n",
    "print(\"\\nData after Imputation:\")\n",
    "print(dataset)"
   ]
  },
  {
   "cell_type": "code",
   "execution_count": null,
   "id": "3750f594-5093-4a44-b6e0-64827f972940",
   "metadata": {},
   "outputs": [],
   "source": [
    "# 5: \n",
    "Implementing a Simple Linear Regression Model\n",
    "You are given a dataset with Experience (years) and Salary ($). Write a Python program to:\n",
    "Train a Linear Regression model.\n",
    "\n",
    "\n",
    "Predict the salary for an individual with 6 years of experience.\n",
    "\n",
    "\n",
    "Dataset:\n",
    "import pandas as pd\n",
    "\n",
    "data = {'Experience': [1, 2, 3, 4, 5], \n",
    "        'Salary': [30000, 35000, 40000, 45000, 50000]}\n",
    "df = pd.DataFrame(data)\n",
    "\n",
    "Expected Output (Example):\n",
    "\n",
    "Predicted Salary for 6 years of experience: $55000\n",
    "\n",
    "\n",
    "data = {'word_count': [100, 150, 200, 120, 180, 220], \n",
    "        'is_spam': ['ham', 'spam', 'spam', 'ham', 'spam', 'spam']}\n",
    "df = pd.DataFrame(data)\n",
    "\n",
    "Expected Output (Example):\n",
    "Prediction for email with 200 words: Spam"
   ]
  },
  {
   "cell_type": "code",
   "execution_count": 61,
   "id": "e3f83466-964a-45b9-bb1b-89a7fbac1c95",
   "metadata": {},
   "outputs": [
    {
     "name": "stdout",
     "output_type": "stream",
     "text": [
      "   Experience  Salary\n",
      "0           1   30000\n",
      "1           2   35000\n",
      "2           3   40000\n",
      "3           4   45000\n",
      "4           5   50000\n"
     ]
    }
   ],
   "source": [
    "import pandas as pd\n",
    "data = {'Experience': [1, 2, 3, 4, 5], \n",
    "        'Salary': [30000, 35000, 40000, 45000, 50000]}\n",
    "#Creating a DataFrame\n",
    "dataset = pd.DataFrame(data)\n",
    "print(dataset)\n",
    "        "
   ]
  },
  {
   "cell_type": "code",
   "execution_count": 67,
   "id": "85373054-7bba-4e16-93d2-debcfc8de836",
   "metadata": {},
   "outputs": [
    {
     "name": "stdout",
     "output_type": "stream",
     "text": [
      "LinearRegression()\n"
     ]
    }
   ],
   "source": [
    "independent = dataset[['Experience']]\n",
    "dependent = dataset[['Salary']]\n",
    "from sklearn.linear_model import LinearRegression\n",
    "regressor = LinearRegression()\n",
    "model = regressor.fit(independent,dependent)\n",
    "print(model)"
   ]
  },
  {
   "cell_type": "code",
   "execution_count": 74,
   "id": "cf718940-2e28-42b1-8108-eaccf0e8ca6e",
   "metadata": {},
   "outputs": [
    {
     "name": "stdout",
     "output_type": "stream",
     "text": [
      "Predicted Salary for 6 years of experience: $ [[55000.]]\n"
     ]
    },
    {
     "name": "stderr",
     "output_type": "stream",
     "text": [
      "/opt/anaconda3/envs/ml/lib/python3.12/site-packages/sklearn/base.py:493: UserWarning: X does not have valid feature names, but LinearRegression was fitted with feature names\n",
      "  warnings.warn(\n"
     ]
    }
   ],
   "source": [
    "predictions = model.predict([[6]])\n",
    "print(\"Predicted Salary for 6 years of experience: $\",predictions)"
   ]
  },
  {
   "cell_type": "code",
   "execution_count": 82,
   "id": "210665b6-5308-4a87-a53d-ed27a510d0c9",
   "metadata": {},
   "outputs": [
    {
     "name": "stdout",
     "output_type": "stream",
     "text": [
      "Predicted Salary for 6 years of experience: $55000\n"
     ]
    },
    {
     "name": "stderr",
     "output_type": "stream",
     "text": [
      "/opt/anaconda3/envs/ml/lib/python3.12/site-packages/sklearn/base.py:493: UserWarning: X does not have valid feature names, but LinearRegression was fitted with feature names\n",
      "  warnings.warn(\n",
      "/var/folders/_d/9dyxj4t14ql55yv2t3fzbr7c0000gn/T/ipykernel_32617/1257341400.py:2: DeprecationWarning: Conversion of an array with ndim > 0 to a scalar is deprecated, and will error in future. Ensure you extract a single element from your array before performing this operation. (Deprecated NumPy 1.25.)\n",
      "  print(\"Predicted Salary for 6 years of experience: $\" + str(int(predictions[[0]])))\n"
     ]
    }
   ],
   "source": [
    "predictions = model.predict([[6]])\n",
    "print(\"Predicted Salary for 6 years of experience: $\" + str(int(predictions[[0]])))"
   ]
  },
  {
   "cell_type": "code",
   "execution_count": 83,
   "id": "922d7462-b206-4bfc-af55-a18c268c3d35",
   "metadata": {},
   "outputs": [
    {
     "name": "stdout",
     "output_type": "stream",
     "text": [
      "Predicted Salary for 6 years of experience: $ 55000\n"
     ]
    },
    {
     "name": "stderr",
     "output_type": "stream",
     "text": [
      "/opt/anaconda3/envs/ml/lib/python3.12/site-packages/sklearn/base.py:493: UserWarning: X does not have valid feature names, but LinearRegression was fitted with feature names\n",
      "  warnings.warn(\n",
      "/var/folders/_d/9dyxj4t14ql55yv2t3fzbr7c0000gn/T/ipykernel_32617/1765728532.py:2: DeprecationWarning: Conversion of an array with ndim > 0 to a scalar is deprecated, and will error in future. Ensure you extract a single element from your array before performing this operation. (Deprecated NumPy 1.25.)\n",
      "  print(f\"Predicted Salary for 6 years of experience: $ {(int(predictions[[0]]))}\")\n"
     ]
    }
   ],
   "source": [
    "predictions = model.predict([[6]])\n",
    "print(f\"Predicted Salary for 6 years of experience: $ {(int(predictions[[0]]))}\")"
   ]
  },
  {
   "cell_type": "code",
   "execution_count": 84,
   "id": "d3f808ad-dc21-4782-8b37-14219febff84",
   "metadata": {},
   "outputs": [
    {
     "name": "stdout",
     "output_type": "stream",
     "text": [
      "Predicted Salary for 6 years of experience: $ 55,000\n"
     ]
    },
    {
     "name": "stderr",
     "output_type": "stream",
     "text": [
      "/opt/anaconda3/envs/ml/lib/python3.12/site-packages/sklearn/base.py:493: UserWarning: X does not have valid feature names, but LinearRegression was fitted with feature names\n",
      "  warnings.warn(\n",
      "/var/folders/_d/9dyxj4t14ql55yv2t3fzbr7c0000gn/T/ipykernel_32617/1526066884.py:2: DeprecationWarning: Conversion of an array with ndim > 0 to a scalar is deprecated, and will error in future. Ensure you extract a single element from your array before performing this operation. (Deprecated NumPy 1.25.)\n",
      "  print(f\"Predicted Salary for 6 years of experience: $ {int(predictions[[0]]):,}\")\n"
     ]
    }
   ],
   "source": [
    "predictions = model.predict([[6]])\n",
    "print(f\"Predicted Salary for 6 years of experience: $ {int(predictions[[0]]):,}\")"
   ]
  },
  {
   "cell_type": "code",
   "execution_count": 95,
   "id": "ed8d9591-7281-4c20-9a8d-745e373e1e54",
   "metadata": {},
   "outputs": [
    {
     "name": "stdout",
     "output_type": "stream",
     "text": [
      "Predicted Salary for 6 years of experience: $55,000.00\n"
     ]
    },
    {
     "name": "stderr",
     "output_type": "stream",
     "text": [
      "/opt/anaconda3/envs/ml/lib/python3.12/site-packages/sklearn/base.py:493: UserWarning: X does not have valid feature names, but LinearRegression was fitted with feature names\n",
      "  warnings.warn(\n",
      "/var/folders/_d/9dyxj4t14ql55yv2t3fzbr7c0000gn/T/ipykernel_32617/2496328938.py:2: DeprecationWarning: Conversion of an array with ndim > 0 to a scalar is deprecated, and will error in future. Ensure you extract a single element from your array before performing this operation. (Deprecated NumPy 1.25.)\n",
      "  salary = float(predictions[0])\n"
     ]
    }
   ],
   "source": [
    "predictions = model.predict([[6]])\n",
    "salary = float(predictions[0])\n",
    "print(f\"Predicted Salary for 6 years of experience: ${salary:,.2f}\")"
   ]
  },
  {
   "cell_type": "code",
   "execution_count": null,
   "id": "7665a765-0aa4-45cd-a075-1ff5d7a3f003",
   "metadata": {},
   "outputs": [],
   "source": []
  }
 ],
 "metadata": {
  "kernelspec": {
   "display_name": "Python 3 (ipykernel)",
   "language": "python",
   "name": "python3"
  },
  "language_info": {
   "codemirror_mode": {
    "name": "ipython",
    "version": 3
   },
   "file_extension": ".py",
   "mimetype": "text/x-python",
   "name": "python",
   "nbconvert_exporter": "python",
   "pygments_lexer": "ipython3",
   "version": "3.12.7"
  }
 },
 "nbformat": 4,
 "nbformat_minor": 5
}
