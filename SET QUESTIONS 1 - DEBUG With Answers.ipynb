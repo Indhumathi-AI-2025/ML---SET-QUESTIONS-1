{
 "cells": [
  {
   "cell_type": "code",
   "execution_count": null,
   "id": "e27667b3-0836-4c0e-a4fd-b0aae94179db",
   "metadata": {},
   "outputs": [],
   "source": [
    "#1.Debug the given code\n",
    "\n",
    "import pandas as pd\n",
    "\n",
    "data = {'Feature1': ['10', '20', 'Thirty'],  # 'Thirty' is not a valid number\n",
    "        'Feature2': [5.5, 6.7, 8.9]}\n",
    "\n",
    "df = pd.DataFrame(data)\n",
    "df['Feature1'] = df['Feature1'].astype(int)  # Error: Cannot convert 'Thirty' to int\n",
    "\n",
    "print(df)\n"
   ]
  },
  {
   "cell_type": "code",
   "execution_count": 1,
   "id": "8b125a30-6201-4f6b-8032-599157a78f7b",
   "metadata": {},
   "outputs": [
    {
     "name": "stdout",
     "output_type": "stream",
     "text": [
      "   Feature1  Feature2\n",
      "0      10.0       5.5\n",
      "1      20.0       6.7\n",
      "2       NaN       8.9\n"
     ]
    }
   ],
   "source": [
    "#1. Correct Code\n",
    "import pandas as pd\n",
    "\n",
    "data = {'Feature1': ['10', '20', 'Thirty'],  # Change 'Thirty' into 30\n",
    "        'Feature2': [5.5, 6.7, 8.9]}\n",
    "\n",
    "df = pd.DataFrame(data)\n",
    "#df['Feature1'] = df['Feature1'].astype(int) # Error: Cannot convert 'Thirty' to int\n",
    "\n",
    "#Using the to_numeric function to convert non-numeric data into numerical data\n",
    "df['Feature1'] = pd.to_numeric(df['Feature1'], errors='coerce') # Shows the invalid values as NaN(Not a Number)\n",
    "print(df)"
   ]
  },
  {
   "cell_type": "code",
   "execution_count": null,
   "id": "591d6fb8-54a5-4ab2-ad77-0d868ad08ab8",
   "metadata": {
    "scrolled": true
   },
   "outputs": [],
   "source": [
    "#2.Debug the Code\n",
    "\n",
    "import pandas as pd\n",
    "\n",
    "data = {'A': [1, 2, None],  # Missing value\n",
    "        'B': [4, None, 6]}  # Missing value\n",
    "\n",
    "df = pd.DataFrame(data)\n",
    "mean_value = df.mean()\n",
    "df.fillna(mean_value)  # Error: fillna() does not modify in place\n",
    "\n",
    "print(df)\n"
   ]
  },
  {
   "cell_type": "code",
   "execution_count": 2,
   "id": "1ceb7cf6-7862-44e1-bce9-d2b5335bd0be",
   "metadata": {},
   "outputs": [
    {
     "name": "stdout",
     "output_type": "stream",
     "text": [
      "     A    B\n",
      "0  1.0  4.0\n",
      "1  2.0  5.0\n",
      "2  1.5  6.0\n"
     ]
    }
   ],
   "source": [
    "#2.Correct Code\n",
    "\n",
    "import pandas as pd\n",
    "\n",
    "data = {'A': [1, 2, None],  \n",
    "        'B': [4, None, 6]}\n",
    "\n",
    "df = pd.DataFrame(data)\n",
    "mean_value = df.mean()\n",
    "df.fillna(mean_value)  # Error: fillna() does not modify in place\n",
    "df.fillna(df.mean(), inplace=True)  # Use inplace=True to modify the DataFrame\n",
    "print(df)"
   ]
  },
  {
   "cell_type": "code",
   "execution_count": null,
   "id": "7451428a-3ac4-424d-9c15-43861f7406bb",
   "metadata": {},
   "outputs": [],
   "source": [
    "#3. Debug the Code\n",
    "from sklearn.linear_model import LinearRegression\n",
    "import numpy as np\n",
    "\n",
    "X = np.array([1, 2, 3, 4, 5])  # Error: X should be 2D\n",
    "y = np.array([2, 4, 6, 8, 10])\n",
    "\n",
    "model = LinearRegression()\n",
    "model.fit(X, y)"
   ]
  },
  {
   "cell_type": "code",
   "execution_count": 6,
   "id": "8a4b6c23-32aa-4267-b069-c948a7304415",
   "metadata": {},
   "outputs": [
    {
     "name": "stdout",
     "output_type": "stream",
     "text": [
      "[12.]\n"
     ]
    }
   ],
   "source": [
    "#3. Correct Code\n",
    "from sklearn.linear_model import LinearRegression\n",
    "import numpy as np\n",
    "\n",
    "X = np.array([1, 2, 3, 4, 5]).reshape(-1, 1)  # Error: X should be 2D, Changing 1D into 2d using .reshape(-1,1)\n",
    "y = np.array([2, 4, 6, 8, 10])\n",
    "\n",
    "model = LinearRegression()\n",
    "model.fit(X, y)\n",
    "\n",
    "print(model.predict([[6]]))"
   ]
  },
  {
   "cell_type": "code",
   "execution_count": null,
   "id": "ec995b48-6f47-43db-980f-b7dd903fd7d0",
   "metadata": {},
   "outputs": [],
   "source": [
    "#4. Debug the Code\n",
    "from sklearn.preprocessing import StandardScaler\n",
    "import numpy as np\n",
    "\n",
    "data = np.array([10, 20, 30, 40, 50])  # Error: Should be 2D\n",
    "\n",
    "scaler = StandardScaler()\n",
    "scaled_data = scaler.fit_transform(data)\n",
    "\n",
    "print(scaled_data)"
   ]
  },
  {
   "cell_type": "code",
   "execution_count": 7,
   "id": "cd1fb6dc-0b4b-48c4-81a2-d4572f7504e8",
   "metadata": {},
   "outputs": [
    {
     "name": "stdout",
     "output_type": "stream",
     "text": [
      "[[-1.41421356]\n",
      " [-0.70710678]\n",
      " [ 0.        ]\n",
      " [ 0.70710678]\n",
      " [ 1.41421356]]\n"
     ]
    }
   ],
   "source": [
    "# 4. Correct Code\n",
    "from sklearn.preprocessing import StandardScaler\n",
    "import numpy as np\n",
    "\n",
    "data = np.array([10, 20, 30, 40, 50]).reshape(-1,1)  # Error: Should be 2D\n",
    "\n",
    "scaler = StandardScaler()\n",
    "scaled_data = scaler.fit_transform(data)\n",
    "\n",
    "print(scaled_data)"
   ]
  },
  {
   "cell_type": "code",
   "execution_count": null,
   "id": "35127c76-71d5-48b9-adb7-cb133ffc3745",
   "metadata": {},
   "outputs": [],
   "source": [
    "#5. Debug the Code\n",
    "from sklearn.linear_model import LogisticRegression\n",
    "\n",
    "X = [[1, 2], [3, 4], [5, 6]]\n",
    "y = ['yes', 'no', 'yes']  # Error: Labels should be numeric\n",
    "\n",
    "model = LogisticRegression()\n",
    "model.fit(X, y)"
   ]
  },
  {
   "cell_type": "code",
   "execution_count": 8,
   "id": "daafa51e-8524-42fd-8479-92847f658424",
   "metadata": {},
   "outputs": [
    {
     "name": "stdout",
     "output_type": "stream",
     "text": [
      "[1]\n"
     ]
    }
   ],
   "source": [
    "#5. Correct Code\n",
    "\n",
    "from sklearn.linear_model import LogisticRegression\n",
    "\n",
    "X = [[1, 2], [3, 4], [5, 6]]\n",
    "y = [1, 0, 1]  # Convert labels to numeric (Labels must be 0 and 1 for classification.)\n",
    "\n",
    "model = LogisticRegression()\n",
    "model.fit(X, y)\n",
    "\n",
    "print(model.predict([[4, 5]]))"
   ]
  },
  {
   "cell_type": "code",
   "execution_count": null,
   "id": "c51ec87f-3865-44de-98f2-14ca16ea4564",
   "metadata": {},
   "outputs": [],
   "source": [
    "#6. Debug the Code\n",
    "import pandas as pd\n",
    "from sklearn.preprocessing import OneHotEncoder\n",
    "\n",
    "df = pd.DataFrame({'Category': ['A', 'B', 'C', 'A']})\n",
    "\n",
    "encoder = OneHotEncoder\n",
    "encoded = encoder.fit_transform(df['Category'])  # Error: Data should be reshaped\n",
    "print(encoded)"
   ]
  },
  {
   "cell_type": "code",
   "execution_count": 9,
   "id": "cdcc4ba1-2dff-4b8d-b3ae-87a384918971",
   "metadata": {},
   "outputs": [
    {
     "name": "stdout",
     "output_type": "stream",
     "text": [
      "<Compressed Sparse Row sparse matrix of dtype 'float64'\n",
      "\twith 4 stored elements and shape (4, 3)>\n",
      "  Coords\tValues\n",
      "  (0, 0)\t1.0\n",
      "  (1, 1)\t1.0\n",
      "  (2, 2)\t1.0\n",
      "  (3, 0)\t1.0\n"
     ]
    }
   ],
   "source": [
    "#6. Correct Code\n",
    "import pandas as pd\n",
    "from sklearn.preprocessing import OneHotEncoder\n",
    "\n",
    "df = pd.DataFrame({'Category': ['A', 'B', 'C', 'A']})\n",
    "\n",
    "encoder = OneHotEncoder()\n",
    "encoded = encoder.fit_transform(df[['Category']])  # Error: Data should be reshaped\n",
    "print(encoded)"
   ]
  },
  {
   "cell_type": "code",
   "execution_count": null,
   "id": "44920863-195d-4f86-b110-89dcc9fc5d87",
   "metadata": {},
   "outputs": [],
   "source": [
    "#6. Debug the Code\n",
    "from sklearn.model_selection import train_test_split\n",
    "\n",
    "X = [[1, 2], [3, 4], [5, 6], [7, 8]]\n",
    "y = [0, 1, 0] #4th sample is missing\n",
    "\n",
    "X_train, X_test, y_train, y_test = train_test_split(X, y, test_size=0.2)"
   ]
  },
  {
   "cell_type": "code",
   "execution_count": 10,
   "id": "9d42b65c-a945-4f1c-9656-1ca122253203",
   "metadata": {},
   "outputs": [
    {
     "name": "stdout",
     "output_type": "stream",
     "text": [
      "X_train: [[7, 8], [5, 6], [3, 4]]\n",
      "y_train: [2, 0, 1]\n"
     ]
    }
   ],
   "source": [
    "#6. Correct Code\n",
    "from sklearn.model_selection import train_test_split\n",
    "\n",
    "X = [[1, 2], [3, 4], [5, 6], [7, 8]]\n",
    "y = [0, 1, 0, 2] #Add the 4th Sample\n",
    "\n",
    "X_train, X_test, y_train, y_test = train_test_split(X, y, test_size=0.2)\n",
    "print(\"X_train:\", X_train)\n",
    "print(\"y_train:\", y_train)"
   ]
  },
  {
   "cell_type": "code",
   "execution_count": null,
   "id": "d4132381-aa29-4401-a579-50d5401a2212",
   "metadata": {},
   "outputs": [],
   "source": [
    "#7.from sklearn.linear_model import LogisticRegression\n",
    "\n",
    "X_train = [[1, 2], [3, 4], [5, 6]]\n",
    "y_train = [\"yes\", \"no\", \"yes\"]  # Error: LogisticRegression expects numerical labels\n",
    "\n",
    "model = LogisticRegression()\n",
    "model.fit(X_train, y_train)"
   ]
  },
  {
   "cell_type": "code",
   "execution_count": null,
   "id": "ff0b8525-611d-4536-bd63-4342d2959450",
   "metadata": {},
   "outputs": [],
   "source": [
    "#7. Correct Code\n",
    "from sklearn.linear_model import LogisticRegression\n",
    "from sklearn.preprocessing import LabelEncoder\n",
    "\n",
    "X_train = [[1, 2], [3, 4], [5, 6]]\n",
    "y_train = [\"yes\", \"no\", \"yes\"]\n",
    "\n",
    "#Logistic Regression requires numeric labels, using LabelEncoder()\n",
    "encoder = LabelEncoder() \n",
    "y_train_encoded = encoder.fit_transform(y_train)  # Convert labels to numeric\n",
    "\n",
    "model = LogisticRegression()\n",
    "model.fit(X_train, y_train_encoded)\n",
    "answer = model.predict([[2,3]])\n",
    "result = int(answer[0])\n",
    "print(result)\n",
    "#print(model.predict([[2, 3]]))"
   ]
  },
  {
   "cell_type": "code",
   "execution_count": null,
   "id": "d42b1ba1-4c96-4d2c-bc2e-849ee8037346",
   "metadata": {},
   "outputs": [],
   "source": [
    "#8. Debug the code\n",
    "import numpy as np\n",
    "import pandas as pd\n",
    "from sklearn.linear_model import LinearRegression\n",
    "\n",
    "# Creating a dataset with missing values\n",
    "X_train = np.array([[1, 2], [3, np.nan], [5, 6]])\n",
    "y_train = np.array([10, 20, 30])\n",
    "\n",
    "model = LinearRegression()\n",
    "model.fit(X_train, y_train)  \n"
   ]
  },
  {
   "cell_type": "code",
   "execution_count": null,
   "id": "c9f23f43-edc0-4a91-bdaf-3def187c04b5",
   "metadata": {},
   "outputs": [],
   "source": [
    "#8. Correct Code\n",
    "import numpy as np\n",
    "import pandas as pd\n",
    "from sklearn.linear_model import LinearRegression\n",
    "from sklearn.impute import SimpleImputer\n",
    "\n",
    "# Given dataset is with missing values\n",
    "X_train = np.array([[1, 2], [3, np.nan], [5, 6]])\n",
    "y_train = np.array([10, 20, 30])\n",
    "\n",
    "# Missing values by replacing with NaN with the column mean using SimpleImputer\n",
    "imputer = SimpleImputer(strategy=\"mean\")\n",
    "X_train_imputed = imputer.fit_transform(X_train)\n",
    "\n",
    "# Train the model\n",
    "model = LinearRegression()\n",
    "model.fit(X_train_imputed, y_train)\n",
    "\n",
    "# Make a prediction\n",
    "prediction = model.predict([[3, 4]])\n",
    "answer = int(prediction[0])\n",
    "print(\"Predicted Output:\", answer)\n"
   ]
  },
  {
   "cell_type": "code",
   "execution_count": null,
   "id": "10821389-6afd-4a17-b3f6-58472c6d7326",
   "metadata": {},
   "outputs": [],
   "source": [
    "#9.\n",
    "from sklearn.tree import DecisionTreeClassifier\n",
    "\n",
    "X_train = [[1, 2], [3, 4], [5, 6]]\n",
    "y_train = [\"spam\", \"ham\", \"spam\"]  # Error: String labels not allowed\n",
    "\n",
    "model = DecisionTreeClassifier()\n",
    "model.fit(X_train, y_train)"
   ]
  },
  {
   "cell_type": "code",
   "execution_count": null,
   "id": "8a1f7e42-02c2-4a9d-9153-5a6ef49a968e",
   "metadata": {},
   "outputs": [],
   "source": [
    "#9.\n",
    "from sklearn.tree import DecisionTreeClassifier\n",
    "\n",
    "X_train = [[1, 2], [3, 4], [5, 6]]\n",
    "y_train = [\"spam\", \"ham\", \"spam\"]  # Error: String labels not allowed\n",
    "\n",
    "from sklearn.preprocessing import LabelEncoder\n",
    "\n",
    "encoder = LabelEncoder()\n",
    "y_train_encoded = encoder.fit_transform(y_train)  # Convert to numbers\n",
    "\n",
    "model.fit(X_train, y_train_encoded)\n",
    "print(model.predict([[2, 3]]))  # Output: [0] or [1]\n",
    "\n",
    "\n",
    "model = DecisionTreeClassifier()\n",
    "model.fit(X_train, y_train)"
   ]
  },
  {
   "cell_type": "code",
   "execution_count": null,
   "id": "7bbb2daf-f2d2-4e84-b894-20c81f405ea3",
   "metadata": {},
   "outputs": [],
   "source": [
    "#10.\n",
    "from sklearn.svm import SVC\n",
    "\n",
    "X_train = [[1, 100], [2, 200], [3, 300]]\n",
    "y_train = [0, 1, 0]\n",
    "\n",
    "model = SVC()\n",
    "model.fit(X_train, y_train)\n",
    "print(model.predict([[1, 150]]))  # Unreliable output due to large-scale difference"
   ]
  },
  {
   "cell_type": "code",
   "execution_count": null,
   "id": "3b8d4efe-ee86-476d-8554-bfbd5b05a495",
   "metadata": {},
   "outputs": [],
   "source": [
    "#SVM is sensitive to feature scales. StandardScaler normalizes the features, improving model performance.\n",
    "    \n",
    "from sklearn.preprocessing import StandardScaler\n",
    "from sklearn.svm import SVC\n",
    "\n",
    "X_train = [[1, 100], [2, 200], [3, 300]]\n",
    "y_train = [0, 1, 0]\n",
    "\n",
    "scaler = StandardScaler()\n",
    "X_train_scaled = scaler.fit_transform(X_train)\n",
    "\n",
    "model.fit(X_train_scaled, y_train)\n",
    "\n",
    "X_test_scaled = scaler.transform([[1, 150]])\n",
    "print(model.predict(X_test_scaled))  # More reliable output"
   ]
  },
  {
   "cell_type": "code",
   "execution_count": null,
   "id": "058e472b-8515-4b16-aa06-4f32ae160047",
   "metadata": {},
   "outputs": [],
   "source": []
  }
 ],
 "metadata": {
  "kernelspec": {
   "display_name": "Python 3 (ipykernel)",
   "language": "python",
   "name": "python3"
  },
  "language_info": {
   "codemirror_mode": {
    "name": "ipython",
    "version": 3
   },
   "file_extension": ".py",
   "mimetype": "text/x-python",
   "name": "python",
   "nbconvert_exporter": "python",
   "pygments_lexer": "ipython3",
   "version": "3.12.7"
  }
 },
 "nbformat": 4,
 "nbformat_minor": 5
}
